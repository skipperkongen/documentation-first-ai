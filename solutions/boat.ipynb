{
 "cells": [
  {
   "cell_type": "markdown",
   "metadata": {},
   "source": [
    "# Solution \n",
    "\n",
    "- Date: 13th August 2023\n",
    "- Generator: OpenAI Code Interpreter ChatGPT 4 version [2023 August 3 Version](https://help.openai.com/en/articles/6825453-chatgpt-release-notes). "
   ]
  },
  {
   "cell_type": "code",
   "execution_count": 143,
   "metadata": {},
   "outputs": [],
   "source": [
    "import gymnasium as gym\n",
    "from gymnasium import spaces\n",
    "import numpy as np\n",
    "import pandas as pd\n",
    "import seaborn as sns\n",
    "import matplotlib.pyplot as plt\n",
    "\n",
    "from IPython.display import clear_output"
   ]
  },
  {
   "cell_type": "code",
   "execution_count": 237,
   "metadata": {},
   "outputs": [
    {
     "data": {
      "text/plain": [
       "45.0"
      ]
     },
     "execution_count": 237,
     "metadata": {},
     "output_type": "execute_result"
    }
   ],
   "source": [
    "def get_bearing(vector):\n",
    "    x1, y1 = 0,0\n",
    "    x2, y2 = vector\n",
    "\n",
    "    # Calculate the angle from the positive x-axis to the line connecting the points\n",
    "    angle_rad = np.arctan2(y2 - y1, x2 - x1)\n",
    "\n",
    "    # Convert the angle from radians to degrees\n",
    "    angle_deg = np.degrees(angle_rad)\n",
    "\n",
    "    # Convert to bearing by measuring clockwise from North\n",
    "    bearing = (90 - angle_deg + 360) % 360\n",
    "\n",
    "    return bearing\n",
    "get_bearing((1,1))"
   ]
  },
  {
   "cell_type": "code",
   "execution_count": 226,
   "metadata": {},
   "outputs": [
    {
     "data": {
      "text/plain": [
       "array([-0.7,  0.7])"
      ]
     },
     "execution_count": 226,
     "metadata": {},
     "output_type": "execute_result"
    }
   ],
   "source": [
    "def get_vector(bearing, length):\n",
    "    # Convert bearing to angle measured counterclockwise from the positive x-axis\n",
    "    angle = (90 - bearing) % 360\n",
    "    \n",
    "    # Compute x and y components using cosine and sine\n",
    "    x = length * np.cos(np.radians(angle))\n",
    "    y = length * np.sin(np.radians(angle))\n",
    "    \n",
    "    return np.array([x, y])\n",
    "\n",
    "get_vector(-45, 1).round(1)\n"
   ]
  },
  {
   "cell_type": "code",
   "execution_count": 227,
   "metadata": {},
   "outputs": [
    {
     "data": {
      "text/plain": [
       "5.0"
      ]
     },
     "execution_count": 227,
     "metadata": {},
     "output_type": "execute_result"
    }
   ],
   "source": [
    "def get_distance(p1, p2):\n",
    "    x1, y1 = p1\n",
    "    x2, y2 = p2\n",
    "    p1 = np.array([x1, y1])\n",
    "    p2 = np.array([x2, y2])\n",
    "\n",
    "    return np.linalg.norm(p2 - p1)\n",
    "get_distance((0,0), (3,4))"
   ]
  },
  {
   "cell_type": "code",
   "execution_count": 267,
   "metadata": {},
   "outputs": [],
   "source": [
    "class MotorboatEnv(gym.Env):\n",
    "    def __init__(self):\n",
    "        super().__init__()\n",
    "\n",
    "        # Action space: throttle [-1, 1], steer [-30, 30]\n",
    "        self.action_space = spaces.Box(low=np.array([-1, -30]), high=np.array([1, 30]), dtype=np.float32)\n",
    "        \n",
    "        # Observation space: boat x, y, target x, y, current vector x, y, boat heading\n",
    "        self.observation_space = spaces.Box(low=-np.inf, high=np.inf, shape=(8,), dtype=np.float32)\n",
    "\n",
    "        # Parameters\n",
    "        self.max_timesteps = 1000\n",
    "        self.current_strength = 0.1\n",
    "        self.target_position = np.array([0.0, 0.0])\n",
    "\n",
    "        self.reset()\n",
    "    \n",
    "    def _get_observation(self):\n",
    "        current_vector = get_vector(self.current_heading, self.current_strength)\n",
    "        observation = np.array([\n",
    "            self.boat_position[0],  # boat x\n",
    "            self.boat_position[1],  # boat y\n",
    "            self.target_position[0],  # target x\n",
    "            self.target_position[1],  # target y\n",
    "            current_vector[0],  # current x\n",
    "            current_vector[1],  # current y\n",
    "            self.boat_heading  # boat heading\n",
    "        ])\n",
    "        return observation\n",
    "    \n",
    "    def step(self, action):\n",
    "        # Extract and truncate actions\n",
    "        throttle, steer = np.clip(action, [-1, -30], [1, 30])\n",
    "\n",
    "        # Change heading of boat\n",
    "        self.boat_heading = (self.boat_heading + steer) % 360\n",
    "\n",
    "        # Compute velocity due to throttle\n",
    "        boat_velocity = get_vector(self.boat_heading, throttle)\n",
    "        \n",
    "        # Compute velocity due to current\n",
    "        current_velocity = get_vector(self.current_heading, self.current_strength)\n",
    "        \n",
    "        # Update boat position\n",
    "        self.boat_position += boat_velocity + current_velocity\n",
    "\n",
    "        # Compute distance to target\n",
    "        distance_to_target = get_distance(self.boat_position, self.target_position)\n",
    "\n",
    "        # Check if done\n",
    "        time_out = self.timesteps >= self.max_timesteps\n",
    "        target_reached = distance_to_target < 0.5\n",
    "        done = time_out or target_reached\n",
    "\n",
    "        # Compute reward\n",
    "        reward = -distance_to_target + (100 if target_reached else 0)\n",
    "\n",
    "        # Update timesteps\n",
    "        self.timesteps += 1\n",
    "\n",
    "        # Create observation\n",
    "        observation = self._get_observation()\n",
    "\n",
    "        return observation, reward, done, False, {}\n",
    "\n",
    "    def reset(self):\n",
    "        self.timesteps = 0\n",
    "\n",
    "        # Randomly initialize the boat's position on a circle with radius 10\n",
    "        angle = np.random.uniform(0, 2 * np.pi) # Random angle in radians\n",
    "        self.boat_position = np.array([\n",
    "            10 * np.cos(angle),\n",
    "            10 * np.sin(angle)\n",
    "        ])\n",
    "\n",
    "        # Randomly initialize the boat's bearing\n",
    "        self.boat_heading = np.random.uniform(0, 360) # Random angle in degrees\n",
    "\n",
    "        # Randomly initialize the current's bearing\n",
    "        self.current_heading = np.random.uniform(0, 360) # Random angle in degrees\n",
    "        self.current_strength = 0.1\n",
    "\n",
    "        observation = self._get_observation()\n",
    "        return observation\n",
    "\n",
    "\n",
    "    def render(self, mode='human'):\n",
    "        # Optional: Implement a rendering method to visualize the environment\n",
    "        output = [\n",
    "            f\"Boat: ({round(self.boat_position[0], 2)} {round(self.boat_position[1], 2)}) heading {round(self.boat_heading, 2)}\",\n",
    "            f\"Target: ({self.target_position[0]} {self.target_position[1]}) bearing {get_bearing(self.target_position - self.boat_position)} dist {get_distance(self.boat_position, self.target_position)}\",\n",
    "            f\"Current: {self.current_strength} heading {self.current_heading}\"\n",
    "        ]\n",
    "        print('\\n'.join(output), '\\n')\n"
   ]
  },
  {
   "cell_type": "code",
   "execution_count": 273,
   "metadata": {},
   "outputs": [
    {
     "name": "stdout",
     "output_type": "stream",
     "text": [
      "Boat: (0.0 -10.0) heading 0.0\n",
      "Target: (0.0 0.0) bearing 0.0 dist 10.0\n",
      "Current: 0.1 heading 90.0 \n",
      "\n",
      "Boat: (0.1 -9.0) heading 0.0\n",
      "Target: (0.0 0.0) bearing 359.3634064240365 dist 9.000555538409838\n",
      "Current: 0.1 heading 90.0 \n",
      "\n",
      "Boat: (0.2 -8.0) heading 0.0\n",
      "Target: (0.0 0.0) bearing 358.56790381583534 dist 8.002499609497024\n",
      "Current: 0.1 heading 90.0 \n",
      "\n",
      "Boat: (0.3 -7.0) heading 0.0\n",
      "Target: (0.0 0.0) bearing 357.5459683254729 dist 7.006425622241344\n",
      "Current: 0.1 heading 90.0 \n",
      "\n",
      "Boat: (0.4 -6.0) heading 0.0\n",
      "Target: (0.0 0.0) bearing 356.18592516570965 dist 6.013318551349164\n",
      "Current: 0.1 heading 90.0 \n",
      "\n",
      "Boat: (0.48 -5.0) heading 359.0\n",
      "Target: (0.0 0.0) bearing 354.4876511536396 dist 5.023382849403977\n",
      "Current: 0.1 heading 90.0 \n",
      "\n",
      "Boat: (0.48 -4.01) heading 354.0\n",
      "Target: (0.0 0.0) bearing 353.1946884553073 dist 4.034052214119395\n",
      "Current: 0.1 heading 90.0 \n",
      "\n",
      "Boat: (0.44 -3.02) heading 352.0\n",
      "Target: (0.0 0.0) bearing 351.71949494592724 dist 3.047129121546789\n",
      "Current: 0.1 heading 90.0 \n",
      "\n",
      "Boat: (0.37 -2.03) heading 350.0\n",
      "Target: (0.0 0.0) bearing 349.80427983141374 dist 2.063133879461058\n",
      "Current: 0.1 heading 90.0 \n",
      "\n",
      "Boat: (0.29 -1.05) heading 350.0\n",
      "Target: (0.0 0.0) bearing 344.42176080099983 dist 1.085627769870867\n",
      "Current: 0.1 heading 90.0 \n",
      "\n",
      "Boat: (0.22 -0.06) heading 350.0\n",
      "Target: (0.0 0.0) bearing 285.6243632562507 dist 0.22626231189214258\n",
      "Current: 0.1 heading 90.0 \n",
      "\n",
      "Done!\n"
     ]
    }
   ],
   "source": [
    "env = MotorboatEnv()\n",
    "env.reset()\n",
    "env.boat_position = np.array([0.0,-10.0])\n",
    "env.boat_heading = 0.0\n",
    "env.current_heading = 90.0\n",
    "env.render()\n",
    "for i in range(20):\n",
    "    throttle = 1.0 #float(input('throttle:'))\n",
    "    steer = float(input('steer:'))\n",
    "    observation, reward, done, truncated, info = env.step([throttle, steer])\n",
    "    env.render()\n",
    "    if done:\n",
    "        print('Done!')\n",
    "        break\n"
   ]
  },
  {
   "cell_type": "code",
   "execution_count": 278,
   "metadata": {},
   "outputs": [],
   "source": [
    "class OptimalMotorboatAgent:\n",
    "    def __init__(self, action_space = None):\n",
    "        self.action_space = action_space\n",
    "\n",
    "    def act(self, observation):\n",
    "        boat_x, boat_y, target_x, target_y, current_x, current_y, boat_heading = observation\n",
    "        \n",
    "        throttle = 1\n",
    "        steer = np.random.uniform(-30, 30)\n",
    "        return [throttle, steer]\n"
   ]
  },
  {
   "cell_type": "code",
   "execution_count": 286,
   "metadata": {},
   "outputs": [
    {
     "data": {
      "image/png": "[encoded data removed]",
      "text/plain": [
       "<Figure size 640x480 with 1 Axes>"
      ]
     },
     "metadata": {},
     "output_type": "display_data"
    }
   ],
   "source": [
    "env = MotorboatEnv()\n",
    "agent = OptimalMotorboatAgent()\n",
    "\n",
    "observation = env.reset()\n",
    "trace = []\n",
    "for i in range(50):\n",
    "    trace.append(env.boat_position.tolist() + [i])\n",
    "    # action = env.action_space.sample()\n",
    "    action = agent.act(observation)\n",
    "    observation, reward, done, truncated, info = env.step(action)\n",
    "    \n",
    "    # draw\n",
    "    clear_output(wait=True)\n",
    "    df = pd.DataFrame(trace, columns=['x', 'y', 'i'])\n",
    "    sns.scatterplot(data=df, x='x', y='y')\n",
    "    target_x, target_y = observation[2], observation[3]\n",
    "    plt.plot(target_x, target_y, marker='x', color='r')\n",
    "    plt.show()\n",
    "\n",
    "    if done:\n",
    "        print('Done:', env.boat_position)\n",
    "        break"
   ]
  },
  {
   "cell_type": "code",
   "execution_count": null,
   "metadata": {},
   "outputs": [],
   "source": []
  }
 ],
 "metadata": {
  "kernelspec": {
   "display_name": "Python 3",
   "language": "python",
   "name": "python3"
  },
  "language_info": {
   "codemirror_mode": {
    "name": "ipython",
    "version": 3
   },
   "file_extension": ".py",
   "mimetype": "text/x-python",
   "name": "python",
   "nbconvert_exporter": "python",
   "pygments_lexer": "ipython3",
   "version": "3.10.11"
  },
  "orig_nbformat": 4
 },
 "nbformat": 4,
 "nbformat_minor": 2
}
